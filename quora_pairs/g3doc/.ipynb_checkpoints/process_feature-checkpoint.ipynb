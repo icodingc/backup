{
 "cells": [
  {
   "cell_type": "code",
   "execution_count": 1,
   "metadata": {
    "collapsed": false
   },
   "outputs": [],
   "source": [
    "# -*- coding: utf-8 -*-\n",
    "%matplotlib inline\n",
    "import numpy as np\n",
    "import pandas as pd"
   ]
  },
  {
   "cell_type": "code",
   "execution_count": 2,
   "metadata": {
    "collapsed": false
   },
   "outputs": [],
   "source": [
    "magic_feat_train1 =  pd.read_csv(\"./../quora_pairs/data/new_feature/train_ic.csv\")\n",
    "magic_feat_train2 =  pd.read_csv(\"./../quora_pairs/data/new_feature/train_magic_feat.csv\")"
   ]
  },
  {
   "cell_type": "code",
   "execution_count": 4,
   "metadata": {
    "collapsed": false
   },
   "outputs": [
    {
     "data": {
      "text/html": [
       "<div>\n",
       "<table border=\"1\" class=\"dataframe\">\n",
       "  <thead>\n",
       "    <tr style=\"text-align: right;\">\n",
       "      <th></th>\n",
       "      <th>id</th>\n",
       "      <th>q1_hash</th>\n",
       "      <th>q2_hash</th>\n",
       "      <th>q1_freq</th>\n",
       "      <th>q2_freq</th>\n",
       "      <th>is_duplicate</th>\n",
       "    </tr>\n",
       "  </thead>\n",
       "  <tbody>\n",
       "    <tr>\n",
       "      <th>0</th>\n",
       "      <td>0</td>\n",
       "      <td>0</td>\n",
       "      <td>290457</td>\n",
       "      <td>1</td>\n",
       "      <td>2</td>\n",
       "      <td>0</td>\n",
       "    </tr>\n",
       "    <tr>\n",
       "      <th>1</th>\n",
       "      <td>1</td>\n",
       "      <td>1</td>\n",
       "      <td>16739</td>\n",
       "      <td>8</td>\n",
       "      <td>3</td>\n",
       "      <td>0</td>\n",
       "    </tr>\n",
       "    <tr>\n",
       "      <th>2</th>\n",
       "      <td>2</td>\n",
       "      <td>2</td>\n",
       "      <td>290458</td>\n",
       "      <td>2</td>\n",
       "      <td>1</td>\n",
       "      <td>0</td>\n",
       "    </tr>\n",
       "    <tr>\n",
       "      <th>3</th>\n",
       "      <td>3</td>\n",
       "      <td>3</td>\n",
       "      <td>290459</td>\n",
       "      <td>1</td>\n",
       "      <td>1</td>\n",
       "      <td>0</td>\n",
       "    </tr>\n",
       "    <tr>\n",
       "      <th>4</th>\n",
       "      <td>4</td>\n",
       "      <td>4</td>\n",
       "      <td>290460</td>\n",
       "      <td>3</td>\n",
       "      <td>1</td>\n",
       "      <td>0</td>\n",
       "    </tr>\n",
       "  </tbody>\n",
       "</table>\n",
       "</div>"
      ],
      "text/plain": [
       "   id  q1_hash  q2_hash  q1_freq  q2_freq  is_duplicate\n",
       "0   0        0   290457        1        2             0\n",
       "1   1        1    16739        8        3             0\n",
       "2   2        2   290458        2        1             0\n",
       "3   3        3   290459        1        1             0\n",
       "4   4        4   290460        3        1             0"
      ]
     },
     "execution_count": 4,
     "metadata": {},
     "output_type": "execute_result"
    }
   ],
   "source": [
    "magic_feat_train2.head()"
   ]
  },
  {
   "cell_type": "code",
   "execution_count": 5,
   "metadata": {
    "collapsed": false
   },
   "outputs": [
    {
     "name": "stdout",
     "output_type": "stream",
     "text": [
      "78\n",
      "83\n"
     ]
    }
   ],
   "source": [
    "df_train = pd.read_csv(\"./../quora_pairs/data/new_feature/train_feature.csv\")\n",
    "print len(df_train.columns.values)\n",
    "df_train['intersection_count']=magic_feat_train1['intersection_count']\n",
    "df_train['q1_hash']=magic_feat_train2['q1_hash']\n",
    "df_train['q2_hash']=magic_feat_train2['q2_hash']\n",
    "df_train['q1_freq']=magic_feat_train2['q1_freq']\n",
    "df_train['q2_freq']=magic_feat_train2['q2_freq']\n",
    "print len(df_train.columns.values)"
   ]
  },
  {
   "cell_type": "code",
   "execution_count": 6,
   "metadata": {
    "collapsed": false
   },
   "outputs": [],
   "source": [
    "df_train.to_csv(\"./../quora_pairs/data/new_feature/train_final.csv\",index=False)"
   ]
  },
  {
   "cell_type": "markdown",
   "metadata": {
    "collapsed": true
   },
   "source": [
    "## FOR TEST"
   ]
  },
  {
   "cell_type": "code",
   "execution_count": 7,
   "metadata": {
    "collapsed": false
   },
   "outputs": [],
   "source": [
    "magic_feat_test1 =  pd.read_csv(\"./../quora_pairs/data/new_feature/test_ic.csv\")\n",
    "magic_feat_test2 =  pd.read_csv(\"./../quora_pairs/data/new_feature/test_magic_feat.csv\")"
   ]
  },
  {
   "cell_type": "code",
   "execution_count": 8,
   "metadata": {
    "collapsed": true
   },
   "outputs": [],
   "source": [
    "df_test = pd.read_csv(\"./../quora_pairs/data/new_feature/test_feature.csv\")\n",
    "df_test['intersection_count']=magic_feat_test1['intersection_count']\n",
    "df_test['q1_hash']=magic_feat_test2['q1_hash']\n",
    "df_test['q2_hash']=magic_feat_test2['q2_hash']\n",
    "df_test['q1_freq']=magic_feat_test2['q1_freq']\n",
    "df_test['q2_freq']=magic_feat_test2['q2_freq']"
   ]
  },
  {
   "cell_type": "code",
   "execution_count": 11,
   "metadata": {
    "collapsed": false
   },
   "outputs": [],
   "source": [
    "df_test.to_csv(\"./../quora_pairs/data/new_feature/test_final.csv\",index=False)"
   ]
  }
 ],
 "metadata": {
  "kernelspec": {
   "display_name": "Python [Root]",
   "language": "python",
   "name": "Python [Root]"
  },
  "language_info": {
   "codemirror_mode": {
    "name": "ipython",
    "version": 2
   },
   "file_extension": ".py",
   "mimetype": "text/x-python",
   "name": "python",
   "nbconvert_exporter": "python",
   "pygments_lexer": "ipython2",
   "version": "2.7.12"
  }
 },
 "nbformat": 4,
 "nbformat_minor": 0
}
