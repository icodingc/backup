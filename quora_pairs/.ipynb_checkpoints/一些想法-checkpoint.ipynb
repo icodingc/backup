{
 "cells": [
  {
   "cell_type": "markdown",
   "metadata": {},
   "source": [
    "### 1. Embdding成两个向量。$a \\ b$\n",
    "> 1.pre-train词向量? <br>\n",
    "> 2.CNN or RNN ? <br>\n",
    "\n",
    "### 2. Loss优化\n",
    "> 1.直接拼接二分类 <br>\n",
    "> 2.先求内积$a^Tb$ ,然后mse or CrossEntropy <br>\n",
    "> 3.计算距离$||a-b||_2^2$,使用siamese net"
   ]
  }
 ],
 "metadata": {
  "kernelspec": {
   "display_name": "Python [Root]",
   "language": "python",
   "name": "Python [Root]"
  },
  "language_info": {
   "codemirror_mode": {
    "name": "ipython",
    "version": 2
   },
   "file_extension": ".py",
   "mimetype": "text/x-python",
   "name": "python",
   "nbconvert_exporter": "python",
   "pygments_lexer": "ipython2",
   "version": "2.7.12"
  }
 },
 "nbformat": 4,
 "nbformat_minor": 0
}
